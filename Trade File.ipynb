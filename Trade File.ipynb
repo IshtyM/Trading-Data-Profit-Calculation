{
 "cells": [
  {
   "cell_type": "markdown",
   "metadata": {},
   "source": [
    "### Importing Required Libraries"
   ]
  },
  {
   "cell_type": "markdown",
   "metadata": {},
   "source": [
    "#### Assumptions During the Calculation of Profit\n",
    "1. All the buy and sell are for 10 stocks.\n",
    "2. At the end, the remaining bought stocks cost (which werent sell) were taken as investment. "
   ]
  },
  {
   "cell_type": "code",
   "execution_count": 1,
   "metadata": {},
   "outputs": [],
   "source": [
    "import pandas as pd\n",
    "import warnings\n",
    "import seaborn as sns\n",
    "import matplotlib.pyplot as plt\n",
    "warnings.filterwarnings(\"ignore\")"
   ]
  },
  {
   "cell_type": "markdown",
   "metadata": {},
   "source": [
    "### Reading the CSV File"
   ]
  },
  {
   "cell_type": "code",
   "execution_count": 2,
   "metadata": {},
   "outputs": [],
   "source": [
    "data=pd.read_csv(\"D:DataSets/Nifty.csv\")"
   ]
  },
  {
   "cell_type": "code",
   "execution_count": 3,
   "metadata": {},
   "outputs": [
    {
     "data": {
      "text/html": [
       "<div>\n",
       "<style scoped>\n",
       "    .dataframe tbody tr th:only-of-type {\n",
       "        vertical-align: middle;\n",
       "    }\n",
       "\n",
       "    .dataframe tbody tr th {\n",
       "        vertical-align: top;\n",
       "    }\n",
       "\n",
       "    .dataframe thead th {\n",
       "        text-align: right;\n",
       "    }\n",
       "</style>\n",
       "<table border=\"1\" class=\"dataframe\">\n",
       "  <thead>\n",
       "    <tr style=\"text-align: right;\">\n",
       "      <th></th>\n",
       "      <th>time</th>\n",
       "      <th>open</th>\n",
       "      <th>high</th>\n",
       "      <th>low</th>\n",
       "      <th>close</th>\n",
       "    </tr>\n",
       "  </thead>\n",
       "  <tbody>\n",
       "    <tr>\n",
       "      <th>0</th>\n",
       "      <td>2020-10-26T06:58:00Z</td>\n",
       "      <td>11822.90</td>\n",
       "      <td>11826.70</td>\n",
       "      <td>11822.70</td>\n",
       "      <td>11823.75</td>\n",
       "    </tr>\n",
       "    <tr>\n",
       "      <th>1</th>\n",
       "      <td>2020-10-26T06:59:00Z</td>\n",
       "      <td>11823.55</td>\n",
       "      <td>11824.35</td>\n",
       "      <td>11820.70</td>\n",
       "      <td>11820.70</td>\n",
       "    </tr>\n",
       "    <tr>\n",
       "      <th>2</th>\n",
       "      <td>2020-10-26T07:00:00Z</td>\n",
       "      <td>11821.60</td>\n",
       "      <td>11821.60</td>\n",
       "      <td>11811.85</td>\n",
       "      <td>11814.95</td>\n",
       "    </tr>\n",
       "    <tr>\n",
       "      <th>3</th>\n",
       "      <td>2020-10-26T07:01:00Z</td>\n",
       "      <td>11814.70</td>\n",
       "      <td>11816.45</td>\n",
       "      <td>11812.80</td>\n",
       "      <td>11813.45</td>\n",
       "    </tr>\n",
       "    <tr>\n",
       "      <th>4</th>\n",
       "      <td>2020-10-26T07:02:00Z</td>\n",
       "      <td>11813.80</td>\n",
       "      <td>11814.40</td>\n",
       "      <td>11803.00</td>\n",
       "      <td>11808.85</td>\n",
       "    </tr>\n",
       "  </tbody>\n",
       "</table>\n",
       "</div>"
      ],
      "text/plain": [
       "                   time      open      high       low     close\n",
       "0  2020-10-26T06:58:00Z  11822.90  11826.70  11822.70  11823.75\n",
       "1  2020-10-26T06:59:00Z  11823.55  11824.35  11820.70  11820.70\n",
       "2  2020-10-26T07:00:00Z  11821.60  11821.60  11811.85  11814.95\n",
       "3  2020-10-26T07:01:00Z  11814.70  11816.45  11812.80  11813.45\n",
       "4  2020-10-26T07:02:00Z  11813.80  11814.40  11803.00  11808.85"
      ]
     },
     "execution_count": 3,
     "metadata": {},
     "output_type": "execute_result"
    }
   ],
   "source": [
    "data.head()"
   ]
  },
  {
   "cell_type": "markdown",
   "metadata": {},
   "source": [
    "### Data Preprocessing"
   ]
  },
  {
   "cell_type": "markdown",
   "metadata": {},
   "source": [
    "#### In order to understand the data like null values, data types and columns. describe and info is used "
   ]
  },
  {
   "cell_type": "code",
   "execution_count": 4,
   "metadata": {},
   "outputs": [
    {
     "name": "stdout",
     "output_type": "stream",
     "text": [
      "<class 'pandas.core.frame.DataFrame'>\n",
      "RangeIndex: 16272 entries, 0 to 16271\n",
      "Data columns (total 5 columns):\n",
      " #   Column  Non-Null Count  Dtype  \n",
      "---  ------  --------------  -----  \n",
      " 0   time    16272 non-null  object \n",
      " 1   open    16272 non-null  float64\n",
      " 2   high    16272 non-null  float64\n",
      " 3   low     16272 non-null  float64\n",
      " 4   close   16272 non-null  float64\n",
      "dtypes: float64(4), object(1)\n",
      "memory usage: 635.8+ KB\n"
     ]
    }
   ],
   "source": [
    "data.info()"
   ]
  },
  {
   "cell_type": "code",
   "execution_count": 5,
   "metadata": {},
   "outputs": [
    {
     "data": {
      "text/html": [
       "<div>\n",
       "<style scoped>\n",
       "    .dataframe tbody tr th:only-of-type {\n",
       "        vertical-align: middle;\n",
       "    }\n",
       "\n",
       "    .dataframe tbody tr th {\n",
       "        vertical-align: top;\n",
       "    }\n",
       "\n",
       "    .dataframe thead th {\n",
       "        text-align: right;\n",
       "    }\n",
       "</style>\n",
       "<table border=\"1\" class=\"dataframe\">\n",
       "  <thead>\n",
       "    <tr style=\"text-align: right;\">\n",
       "      <th></th>\n",
       "      <th>open</th>\n",
       "      <th>high</th>\n",
       "      <th>low</th>\n",
       "      <th>close</th>\n",
       "    </tr>\n",
       "  </thead>\n",
       "  <tbody>\n",
       "    <tr>\n",
       "      <th>count</th>\n",
       "      <td>16272.000000</td>\n",
       "      <td>16272.000000</td>\n",
       "      <td>16272.000000</td>\n",
       "      <td>16272.000000</td>\n",
       "    </tr>\n",
       "    <tr>\n",
       "      <th>mean</th>\n",
       "      <td>13295.455534</td>\n",
       "      <td>13298.763600</td>\n",
       "      <td>13292.125080</td>\n",
       "      <td>13295.466989</td>\n",
       "    </tr>\n",
       "    <tr>\n",
       "      <th>std</th>\n",
       "      <td>836.117023</td>\n",
       "      <td>835.867546</td>\n",
       "      <td>836.319496</td>\n",
       "      <td>836.096060</td>\n",
       "    </tr>\n",
       "    <tr>\n",
       "      <th>min</th>\n",
       "      <td>11545.950000</td>\n",
       "      <td>11549.100000</td>\n",
       "      <td>11535.450000</td>\n",
       "      <td>11545.550000</td>\n",
       "    </tr>\n",
       "    <tr>\n",
       "      <th>25%</th>\n",
       "      <td>12771.112500</td>\n",
       "      <td>12774.637500</td>\n",
       "      <td>12767.650000</td>\n",
       "      <td>12770.937500</td>\n",
       "    </tr>\n",
       "    <tr>\n",
       "      <th>50%</th>\n",
       "      <td>13361.525000</td>\n",
       "      <td>13370.400000</td>\n",
       "      <td>13350.950000</td>\n",
       "      <td>13361.375000</td>\n",
       "    </tr>\n",
       "    <tr>\n",
       "      <th>75%</th>\n",
       "      <td>13962.625000</td>\n",
       "      <td>13964.775000</td>\n",
       "      <td>13959.200000</td>\n",
       "      <td>13962.600000</td>\n",
       "    </tr>\n",
       "    <tr>\n",
       "      <th>max</th>\n",
       "      <td>14650.450000</td>\n",
       "      <td>14653.350000</td>\n",
       "      <td>14646.950000</td>\n",
       "      <td>14651.050000</td>\n",
       "    </tr>\n",
       "  </tbody>\n",
       "</table>\n",
       "</div>"
      ],
      "text/plain": [
       "               open          high           low         close\n",
       "count  16272.000000  16272.000000  16272.000000  16272.000000\n",
       "mean   13295.455534  13298.763600  13292.125080  13295.466989\n",
       "std      836.117023    835.867546    836.319496    836.096060\n",
       "min    11545.950000  11549.100000  11535.450000  11545.550000\n",
       "25%    12771.112500  12774.637500  12767.650000  12770.937500\n",
       "50%    13361.525000  13370.400000  13350.950000  13361.375000\n",
       "75%    13962.625000  13964.775000  13959.200000  13962.600000\n",
       "max    14650.450000  14653.350000  14646.950000  14651.050000"
      ]
     },
     "execution_count": 5,
     "metadata": {},
     "output_type": "execute_result"
    }
   ],
   "source": [
    "data.describe()"
   ]
  },
  {
   "cell_type": "markdown",
   "metadata": {},
   "source": [
    "#### Since, there are no null values, we can proceed with the same. Although, we required to convert time into datetime format. "
   ]
  },
  {
   "cell_type": "code",
   "execution_count": 6,
   "metadata": {},
   "outputs": [],
   "source": [
    "# Function code for treating the time column\n",
    "\n",
    "def date(time):\n",
    "    data['dt'] = time.astype('datetime64')\n",
    "    data['day']=data['dt'].dt.day\n",
    "    data['month']=data['dt'].dt.month\n",
    "    data['year']=data['dt'].dt.year"
   ]
  },
  {
   "cell_type": "code",
   "execution_count": 7,
   "metadata": {},
   "outputs": [],
   "source": [
    "# Calling of function\n",
    "\n",
    "date(data['time'])"
   ]
  },
  {
   "cell_type": "code",
   "execution_count": 8,
   "metadata": {},
   "outputs": [],
   "source": [
    "def plot(inp):\n",
    "    plt.plot(data['dt'],data[inp])\n",
    "    plt.xlabel(\"Date\")\n",
    "    plt.ylabel(inp + \"Data\")\n",
    "    plt.title(\"Plot between \" + inp + \" and date\")\n",
    "    plt.show()"
   ]
  },
  {
   "cell_type": "code",
   "execution_count": 9,
   "metadata": {},
   "outputs": [
    {
     "data": {
      "image/png": "[encoded data removed]",
      "text/plain": [
       "<Figure size 432x288 with 1 Axes>"
      ]
     },
     "metadata": {
      "needs_background": "light"
     },
     "output_type": "display_data"
    }
   ],
   "source": [
    "plot('open')"
   ]
  },
  {
   "cell_type": "code",
   "execution_count": 10,
   "metadata": {},
   "outputs": [
    {
     "data": {
      "image/png": "[encoded data removed]",
      "text/plain": [
       "<Figure size 432x288 with 1 Axes>"
      ]
     },
     "metadata": {
      "needs_background": "light"
     },
     "output_type": "display_data"
    }
   ],
   "source": [
    "plot('low')"
   ]
  },
  {
   "cell_type": "markdown",
   "metadata": {},
   "source": [
    "#### Since it shows that the trend is increasing, means the prices are increasing day by day. "
   ]
  },
  {
   "cell_type": "markdown",
   "metadata": {},
   "source": [
    "#### Now, we can remove the time and dt column since we have created the day, month and year columns"
   ]
  },
  {
   "cell_type": "code",
   "execution_count": 11,
   "metadata": {},
   "outputs": [],
   "source": [
    "data.drop(['time','dt'], inplace=True, axis=1)"
   ]
  },
  {
   "cell_type": "code",
   "execution_count": 12,
   "metadata": {},
   "outputs": [
    {
     "data": {
      "text/html": [
       "<div>\n",
       "<style scoped>\n",
       "    .dataframe tbody tr th:only-of-type {\n",
       "        vertical-align: middle;\n",
       "    }\n",
       "\n",
       "    .dataframe tbody tr th {\n",
       "        vertical-align: top;\n",
       "    }\n",
       "\n",
       "    .dataframe thead th {\n",
       "        text-align: right;\n",
       "    }\n",
       "</style>\n",
       "<table border=\"1\" class=\"dataframe\">\n",
       "  <thead>\n",
       "    <tr style=\"text-align: right;\">\n",
       "      <th></th>\n",
       "      <th>open</th>\n",
       "      <th>high</th>\n",
       "      <th>low</th>\n",
       "      <th>close</th>\n",
       "      <th>day</th>\n",
       "      <th>month</th>\n",
       "      <th>year</th>\n",
       "    </tr>\n",
       "  </thead>\n",
       "  <tbody>\n",
       "    <tr>\n",
       "      <th>0</th>\n",
       "      <td>11822.90</td>\n",
       "      <td>11826.70</td>\n",
       "      <td>11822.70</td>\n",
       "      <td>11823.75</td>\n",
       "      <td>26</td>\n",
       "      <td>10</td>\n",
       "      <td>2020</td>\n",
       "    </tr>\n",
       "    <tr>\n",
       "      <th>1</th>\n",
       "      <td>11823.55</td>\n",
       "      <td>11824.35</td>\n",
       "      <td>11820.70</td>\n",
       "      <td>11820.70</td>\n",
       "      <td>26</td>\n",
       "      <td>10</td>\n",
       "      <td>2020</td>\n",
       "    </tr>\n",
       "    <tr>\n",
       "      <th>2</th>\n",
       "      <td>11821.60</td>\n",
       "      <td>11821.60</td>\n",
       "      <td>11811.85</td>\n",
       "      <td>11814.95</td>\n",
       "      <td>26</td>\n",
       "      <td>10</td>\n",
       "      <td>2020</td>\n",
       "    </tr>\n",
       "    <tr>\n",
       "      <th>3</th>\n",
       "      <td>11814.70</td>\n",
       "      <td>11816.45</td>\n",
       "      <td>11812.80</td>\n",
       "      <td>11813.45</td>\n",
       "      <td>26</td>\n",
       "      <td>10</td>\n",
       "      <td>2020</td>\n",
       "    </tr>\n",
       "    <tr>\n",
       "      <th>4</th>\n",
       "      <td>11813.80</td>\n",
       "      <td>11814.40</td>\n",
       "      <td>11803.00</td>\n",
       "      <td>11808.85</td>\n",
       "      <td>26</td>\n",
       "      <td>10</td>\n",
       "      <td>2020</td>\n",
       "    </tr>\n",
       "  </tbody>\n",
       "</table>\n",
       "</div>"
      ],
      "text/plain": [
       "       open      high       low     close  day  month  year\n",
       "0  11822.90  11826.70  11822.70  11823.75   26     10  2020\n",
       "1  11823.55  11824.35  11820.70  11820.70   26     10  2020\n",
       "2  11821.60  11821.60  11811.85  11814.95   26     10  2020\n",
       "3  11814.70  11816.45  11812.80  11813.45   26     10  2020\n",
       "4  11813.80  11814.40  11803.00  11808.85   26     10  2020"
      ]
     },
     "execution_count": 12,
     "metadata": {},
     "output_type": "execute_result"
    }
   ],
   "source": [
    "data.head()"
   ]
  },
  {
   "cell_type": "markdown",
   "metadata": {},
   "source": [
    "### Code for Strategy 1"
   ]
  },
  {
   "cell_type": "markdown",
   "metadata": {},
   "source": [
    "Since we have to see previous day's high price. When prices of current day cross the high of previous day give a \"Buy\" signal, and buy at that price. This will result in the trade status being \"active\". If there is no Buy signal, the trade status will be \"inactive\".\n",
    "\n",
    "Below code is explained throughly"
   ]
  },
  {
   "cell_type": "code",
   "execution_count": 13,
   "metadata": {},
   "outputs": [],
   "source": [
    "#Creating a Function\n",
    "\n",
    "def strategy1(data):\n",
    "    highindex=[]\n",
    "    data['high_value']=\"\"   #Creating required data columns\n",
    "    data['low_value']=\"\"\n",
    "    \n",
    "    for i in data['month'].unique():   #calling the loop in month and day\n",
    "        for j in data['day'].unique():\n",
    "            \n",
    "# During the loop, we get the subsequent indexes that will be used to find the high and low value for particular day\n",
    "#That value is now added in the column of first time of that day. \n",
    "\n",
    "            try:  \n",
    "                k=data[(data['month']==i) & (data['day']==j)].index[0]\n",
    "                data['high_value'][k]=float(data[(data['month']==i) & (data['day']==j)].high.max())\n",
    "                data['low_value'][k]=float(data[(data['month']==i) & (data['day']==j)].high.min())\n",
    "                highindex.append(k)\n",
    "            except:\n",
    "                continue\n",
    "\n",
    "    highindex.append(len(data))\n",
    "    \n",
    "\n",
    "    data['buy']=\" \"\n",
    "    data['status']='Cant Say'\n",
    "    k=0\n",
    "    for i in highindex:\n",
    "\n",
    "#Here, the buy and status is added as per comparision with the high value of per day\n",
    "\n",
    "        try:\n",
    "            highval=data['high_value'][i]\n",
    "            k=k+1\n",
    "            for j in range(highindex[k], highindex[k+1]):\n",
    "                if data['high'][j]>highval:\n",
    "                    data['buy'][j]=\"buy\" \n",
    "                    data['status'][j]=\"active\"\n",
    "                    \n",
    "\n",
    "\n",
    "                else:\n",
    "                    data['status'][j] = \"Inactive\"\n",
    "        except:\n",
    "            continue\n",
    "            \n",
    "    return (highindex)\n"
   ]
  },
  {
   "cell_type": "code",
   "execution_count": 14,
   "metadata": {},
   "outputs": [],
   "source": [
    "# Calling the Function\n",
    "\n",
    "highindex=strategy1(data)\n",
    "highindex.sort()"
   ]
  },
  {
   "cell_type": "code",
   "execution_count": 15,
   "metadata": {},
   "outputs": [
    {
     "data": {
      "text/html": [
       "<div>\n",
       "<style scoped>\n",
       "    .dataframe tbody tr th:only-of-type {\n",
       "        vertical-align: middle;\n",
       "    }\n",
       "\n",
       "    .dataframe tbody tr th {\n",
       "        vertical-align: top;\n",
       "    }\n",
       "\n",
       "    .dataframe thead th {\n",
       "        text-align: right;\n",
       "    }\n",
       "</style>\n",
       "<table border=\"1\" class=\"dataframe\">\n",
       "  <thead>\n",
       "    <tr style=\"text-align: right;\">\n",
       "      <th></th>\n",
       "      <th>open</th>\n",
       "      <th>high</th>\n",
       "      <th>low</th>\n",
       "      <th>close</th>\n",
       "      <th>day</th>\n",
       "      <th>month</th>\n",
       "      <th>year</th>\n",
       "      <th>high_value</th>\n",
       "      <th>low_value</th>\n",
       "      <th>buy</th>\n",
       "      <th>status</th>\n",
       "    </tr>\n",
       "  </thead>\n",
       "  <tbody>\n",
       "    <tr>\n",
       "      <th>0</th>\n",
       "      <td>11822.90</td>\n",
       "      <td>11826.70</td>\n",
       "      <td>11822.70</td>\n",
       "      <td>11823.75</td>\n",
       "      <td>26</td>\n",
       "      <td>10</td>\n",
       "      <td>2020</td>\n",
       "      <td>11826.7</td>\n",
       "      <td>11809.6</td>\n",
       "      <td></td>\n",
       "      <td>Cant Say</td>\n",
       "    </tr>\n",
       "    <tr>\n",
       "      <th>1</th>\n",
       "      <td>11823.55</td>\n",
       "      <td>11824.35</td>\n",
       "      <td>11820.70</td>\n",
       "      <td>11820.70</td>\n",
       "      <td>26</td>\n",
       "      <td>10</td>\n",
       "      <td>2020</td>\n",
       "      <td></td>\n",
       "      <td></td>\n",
       "      <td></td>\n",
       "      <td>Cant Say</td>\n",
       "    </tr>\n",
       "    <tr>\n",
       "      <th>2</th>\n",
       "      <td>11821.60</td>\n",
       "      <td>11821.60</td>\n",
       "      <td>11811.85</td>\n",
       "      <td>11814.95</td>\n",
       "      <td>26</td>\n",
       "      <td>10</td>\n",
       "      <td>2020</td>\n",
       "      <td></td>\n",
       "      <td></td>\n",
       "      <td></td>\n",
       "      <td>Cant Say</td>\n",
       "    </tr>\n",
       "    <tr>\n",
       "      <th>3</th>\n",
       "      <td>11814.70</td>\n",
       "      <td>11816.45</td>\n",
       "      <td>11812.80</td>\n",
       "      <td>11813.45</td>\n",
       "      <td>26</td>\n",
       "      <td>10</td>\n",
       "      <td>2020</td>\n",
       "      <td></td>\n",
       "      <td></td>\n",
       "      <td></td>\n",
       "      <td>Cant Say</td>\n",
       "    </tr>\n",
       "    <tr>\n",
       "      <th>4</th>\n",
       "      <td>11813.80</td>\n",
       "      <td>11814.40</td>\n",
       "      <td>11803.00</td>\n",
       "      <td>11808.85</td>\n",
       "      <td>26</td>\n",
       "      <td>10</td>\n",
       "      <td>2020</td>\n",
       "      <td></td>\n",
       "      <td></td>\n",
       "      <td></td>\n",
       "      <td>Cant Say</td>\n",
       "    </tr>\n",
       "  </tbody>\n",
       "</table>\n",
       "</div>"
      ],
      "text/plain": [
       "       open      high       low     close  day  month  year high_value  \\\n",
       "0  11822.90  11826.70  11822.70  11823.75   26     10  2020    11826.7   \n",
       "1  11823.55  11824.35  11820.70  11820.70   26     10  2020              \n",
       "2  11821.60  11821.60  11811.85  11814.95   26     10  2020              \n",
       "3  11814.70  11816.45  11812.80  11813.45   26     10  2020              \n",
       "4  11813.80  11814.40  11803.00  11808.85   26     10  2020              \n",
       "\n",
       "  low_value buy    status  \n",
       "0   11809.6      Cant Say  \n",
       "1                Cant Say  \n",
       "2                Cant Say  \n",
       "3                Cant Say  \n",
       "4                Cant Say  "
      ]
     },
     "execution_count": 15,
     "metadata": {},
     "output_type": "execute_result"
    }
   ],
   "source": [
    "data.head()"
   ]
  },
  {
   "cell_type": "markdown",
   "metadata": {},
   "source": [
    "### Code for Strategy 2 and 3"
   ]
  },
  {
   "cell_type": "markdown",
   "metadata": {},
   "source": [
    "Target at which to sell will be Buy price, plus the difference of previous day high and low (Buy price + (Previous day high - Previous Day low)).\n",
    "Maximum loss (Stop Loss) at which to sell will be Buy price, minus one fourth of the difference of previous day high and low (Buy price - 1/4* (Previous day high- Previous Day low)).\n",
    "\n",
    "Hence, Calculation of target and stop loss is done "
   ]
  },
  {
   "cell_type": "code",
   "execution_count": 16,
   "metadata": {},
   "outputs": [],
   "source": [
    "#Function for the two strategies\n",
    "\n",
    "def strategy2_3(targetindex):\n",
    "    \n",
    "    data['target']=\" \"\n",
    "    data['stop loss']=\" \"\n",
    "    \n",
    "    m=0\n",
    "    \n",
    "    for i in highindex:\n",
    "\n",
    "        try:\n",
    "\n",
    "            highval=data['high_value'][i]\n",
    "            lowval=data['low_value'][i]\n",
    "            m=m+1\n",
    "            #here the high and low value are stored in variable that will be used for comaprison\n",
    "            \n",
    "            for j in range(highindex[m], highindex[m+1]):\n",
    "                if data['buy'][j]=='buy':\n",
    "                    \n",
    "                    #as per given formulas\n",
    "                    data['target'][j]=data['high'][j]+(highval-lowval)\n",
    "                    data['stop loss'][j]=data['high'][j]-((1/4)*(highval-lowval))\n",
    "                    targetindex.append(j)\n",
    "\n",
    "        except:\n",
    "            continue\n",
    "    return(targetindex)"
   ]
  },
  {
   "cell_type": "code",
   "execution_count": 17,
   "metadata": {},
   "outputs": [],
   "source": [
    "targetindex=[]\n",
    "targetindex=strategy2_3(targetindex)"
   ]
  },
  {
   "cell_type": "code",
   "execution_count": 18,
   "metadata": {},
   "outputs": [
    {
     "data": {
      "text/html": [
       "<div>\n",
       "<style scoped>\n",
       "    .dataframe tbody tr th:only-of-type {\n",
       "        vertical-align: middle;\n",
       "    }\n",
       "\n",
       "    .dataframe tbody tr th {\n",
       "        vertical-align: top;\n",
       "    }\n",
       "\n",
       "    .dataframe thead th {\n",
       "        text-align: right;\n",
       "    }\n",
       "</style>\n",
       "<table border=\"1\" class=\"dataframe\">\n",
       "  <thead>\n",
       "    <tr style=\"text-align: right;\">\n",
       "      <th></th>\n",
       "      <th>open</th>\n",
       "      <th>high</th>\n",
       "      <th>low</th>\n",
       "      <th>close</th>\n",
       "      <th>day</th>\n",
       "      <th>month</th>\n",
       "      <th>year</th>\n",
       "      <th>high_value</th>\n",
       "      <th>low_value</th>\n",
       "      <th>buy</th>\n",
       "      <th>status</th>\n",
       "      <th>target</th>\n",
       "      <th>stop loss</th>\n",
       "    </tr>\n",
       "  </thead>\n",
       "  <tbody>\n",
       "    <tr>\n",
       "      <th>0</th>\n",
       "      <td>11822.90</td>\n",
       "      <td>11826.70</td>\n",
       "      <td>11822.70</td>\n",
       "      <td>11823.75</td>\n",
       "      <td>26</td>\n",
       "      <td>10</td>\n",
       "      <td>2020</td>\n",
       "      <td>11826.7</td>\n",
       "      <td>11809.6</td>\n",
       "      <td></td>\n",
       "      <td>Cant Say</td>\n",
       "      <td></td>\n",
       "      <td></td>\n",
       "    </tr>\n",
       "    <tr>\n",
       "      <th>1</th>\n",
       "      <td>11823.55</td>\n",
       "      <td>11824.35</td>\n",
       "      <td>11820.70</td>\n",
       "      <td>11820.70</td>\n",
       "      <td>26</td>\n",
       "      <td>10</td>\n",
       "      <td>2020</td>\n",
       "      <td></td>\n",
       "      <td></td>\n",
       "      <td></td>\n",
       "      <td>Cant Say</td>\n",
       "      <td></td>\n",
       "      <td></td>\n",
       "    </tr>\n",
       "    <tr>\n",
       "      <th>2</th>\n",
       "      <td>11821.60</td>\n",
       "      <td>11821.60</td>\n",
       "      <td>11811.85</td>\n",
       "      <td>11814.95</td>\n",
       "      <td>26</td>\n",
       "      <td>10</td>\n",
       "      <td>2020</td>\n",
       "      <td></td>\n",
       "      <td></td>\n",
       "      <td></td>\n",
       "      <td>Cant Say</td>\n",
       "      <td></td>\n",
       "      <td></td>\n",
       "    </tr>\n",
       "    <tr>\n",
       "      <th>3</th>\n",
       "      <td>11814.70</td>\n",
       "      <td>11816.45</td>\n",
       "      <td>11812.80</td>\n",
       "      <td>11813.45</td>\n",
       "      <td>26</td>\n",
       "      <td>10</td>\n",
       "      <td>2020</td>\n",
       "      <td></td>\n",
       "      <td></td>\n",
       "      <td></td>\n",
       "      <td>Cant Say</td>\n",
       "      <td></td>\n",
       "      <td></td>\n",
       "    </tr>\n",
       "    <tr>\n",
       "      <th>4</th>\n",
       "      <td>11813.80</td>\n",
       "      <td>11814.40</td>\n",
       "      <td>11803.00</td>\n",
       "      <td>11808.85</td>\n",
       "      <td>26</td>\n",
       "      <td>10</td>\n",
       "      <td>2020</td>\n",
       "      <td></td>\n",
       "      <td></td>\n",
       "      <td></td>\n",
       "      <td>Cant Say</td>\n",
       "      <td></td>\n",
       "      <td></td>\n",
       "    </tr>\n",
       "  </tbody>\n",
       "</table>\n",
       "</div>"
      ],
      "text/plain": [
       "       open      high       low     close  day  month  year high_value  \\\n",
       "0  11822.90  11826.70  11822.70  11823.75   26     10  2020    11826.7   \n",
       "1  11823.55  11824.35  11820.70  11820.70   26     10  2020              \n",
       "2  11821.60  11821.60  11811.85  11814.95   26     10  2020              \n",
       "3  11814.70  11816.45  11812.80  11813.45   26     10  2020              \n",
       "4  11813.80  11814.40  11803.00  11808.85   26     10  2020              \n",
       "\n",
       "  low_value buy    status target stop loss  \n",
       "0   11809.6      Cant Say                   \n",
       "1                Cant Say                   \n",
       "2                Cant Say                   \n",
       "3                Cant Say                   \n",
       "4                Cant Say                   "
      ]
     },
     "execution_count": 18,
     "metadata": {},
     "output_type": "execute_result"
    }
   ],
   "source": [
    "#Target and Stop Loss are started from next day. Since we have to take previous day high and low values for calculations. \n",
    "\n",
    "data.head()"
   ]
  },
  {
   "cell_type": "markdown",
   "metadata": {},
   "source": [
    "### Strategy 4"
   ]
  },
  {
   "cell_type": "markdown",
   "metadata": {},
   "source": [
    "As soon as a target/Stop Loss is met, it counts as 1 trade, and the trade status becomes \"inactive\". A Buy signal can only be generated if the trade status is \"inactive\".\n",
    "\n",
    "The code is written as"
   ]
  },
  {
   "cell_type": "code",
   "execution_count": 19,
   "metadata": {},
   "outputs": [],
   "source": [
    "dtct={}\n",
    "nonlist=[]\n",
    "for i in data.index:\n",
    "    if data['target'][i]!=\" \":\n",
    "        dtct[i]=data['target'][i]\n",
    "    else:\n",
    "        nonlist.append(i)"
   ]
  },
  {
   "cell_type": "code",
   "execution_count": 20,
   "metadata": {},
   "outputs": [],
   "source": [
    "data['trade']=\" \"\n",
    "for k in dtct.keys():\n",
    "    for j in range(750,len(data)):\n",
    "        if j > k:           \n",
    "               if data['high'][j]>=round(dtct.get(k)):\n",
    "                     if data['trade'][j]==\" \":\n",
    "                        data['trade'][j]=\"Trade \"+ str(k)\n",
    "                        data['status'][j]==\"Inactive\"                       \n",
    "                        break"
   ]
  },
  {
   "cell_type": "code",
   "execution_count": 22,
   "metadata": {
    "scrolled": true
   },
   "outputs": [],
   "source": [
    "dtct2={}\n",
    "for i in data.index:\n",
    "    if data['stop loss'][i]!=\" \":\n",
    "        dtct2[i]=data['stop loss'][i]\n",
    "\n",
    "        \n",
    "\n",
    "for k in dtct2.keys():\n",
    "    for j in range(750,len(data)):\n",
    "        if j > k:           \n",
    "               if data['high'][j]>=round(dtct2.get(k)):\n",
    "                     if data['trade'][j]==\" \":\n",
    "                        data['trade'][j]=\"Trade \"+ str(k)\n",
    "                        data['status'][j]==\"Inactive\"   \n",
    "       \n",
    "                        break"
   ]
  },
  {
   "cell_type": "markdown",
   "metadata": {},
   "source": [
    "### OUTPUT CALCULATIONS"
   ]
  },
  {
   "cell_type": "markdown",
   "metadata": {},
   "source": [
    "#### Number of times, particular strategy 1 has occured in a day"
   ]
  },
  {
   "cell_type": "code",
   "execution_count": 23,
   "metadata": {},
   "outputs": [
    {
     "name": "stdout",
     "output_type": "stream",
     "text": [
      "On 27-10-2020, 9 times strategy 1 has occurred\n",
      "On 30-10-2020, 98 times strategy 1 has occurred\n",
      "On 26-11-2020, 375 times strategy 1 has occurred\n",
      "On 2-11-2020, 53 times strategy 1 has occurred\n",
      "On 3-11-2020, 375 times strategy 1 has occurred\n",
      "On 4-11-2020, 375 times strategy 1 has occurred\n",
      "On 5-11-2020, 375 times strategy 1 has occurred\n",
      "On 6-11-2020, 375 times strategy 1 has occurred\n",
      "On 9-11-2020, 119 times strategy 1 has occurred\n",
      "On 10-11-2020, 375 times strategy 1 has occurred\n",
      "On 11-11-2020, 375 times strategy 1 has occurred\n",
      "On 12-11-2020, 375 times strategy 1 has occurred\n",
      "On 13-11-2020, 370 times strategy 1 has occurred\n",
      "On 14-11-2020, 17 times strategy 1 has occurred\n",
      "On 17-11-2020, 293 times strategy 1 has occurred\n",
      "On 18-11-2020, 375 times strategy 1 has occurred\n",
      "On 19-11-2020, 375 times strategy 1 has occurred\n",
      "On 20-11-2020, 375 times strategy 1 has occurred\n",
      "On 23-11-2020, 375 times strategy 1 has occurred\n",
      "On 24-11-2020, 375 times strategy 1 has occurred\n",
      "On 25-11-2020, 375 times strategy 1 has occurred\n",
      "On 29-12-2020, 375 times strategy 1 has occurred\n",
      "On 30-12-2020, 375 times strategy 1 has occurred\n",
      "On 2-12-2020, 68 times strategy 1 has occurred\n",
      "On 3-12-2020, 154 times strategy 1 has occurred\n",
      "On 14-12-2020, 294 times strategy 1 has occurred\n",
      "On 17-12-2020, 375 times strategy 1 has occurred\n",
      "On 18-12-2020, 375 times strategy 1 has occurred\n",
      "On 23-12-2020, 375 times strategy 1 has occurred\n",
      "On 24-12-2020, 375 times strategy 1 has occurred\n",
      "On 1-12-2020, 37 times strategy 1 has occurred\n",
      "On 15-12-2020, 375 times strategy 1 has occurred\n",
      "On 16-12-2020, 375 times strategy 1 has occurred\n",
      "On 21-12-2020, 375 times strategy 1 has occurred\n",
      "On 22-12-2020, 375 times strategy 1 has occurred\n",
      "On 28-12-2020, 375 times strategy 1 has occurred\n",
      "On 31-12-2020, 59 times strategy 1 has occurred\n",
      "On 4-1-2021, 373 times strategy 1 has occurred\n",
      "On 5-1-2021, 139 times strategy 1 has occurred\n",
      "On 6-1-2021, 57 times strategy 1 has occurred\n",
      "On 11-1-2021, 309 times strategy 1 has occurred\n",
      "On 12-1-2021, 375 times strategy 1 has occurred\n",
      "On 13-1-2021, 375 times strategy 1 has occurred\n",
      "On 14-1-2021, 375 times strategy 1 has occurred\n",
      "On 18-1-2021, 319 times strategy 1 has occurred\n",
      "On 1-1-2021, 214 times strategy 1 has occurred\n",
      "On 15-1-2021, 375 times strategy 1 has occurred\n",
      "On 7-1-2021, 48 times strategy 1 has occurred\n",
      "On 8-1-2021, 115 times strategy 1 has occurred\n"
     ]
    }
   ],
   "source": [
    "for i in data['month'].unique():\n",
    "    for j in data['day'].unique():\n",
    "        try:\n",
    "            k=data[(data['month']==i) & (data['day']==j)].index[0]\n",
    "            number=len(data[(data['month']==i) & (data['day']==j) & (data['buy']=='buy')])\n",
    "        \n",
    "#Use of length here buy exists per day basis.\n",
    "\n",
    "            if number!=0:\n",
    "                print(\"On {0}-{1}-\".format(j,i) + str(data['year'][k]) + \", {0} times strategy 1 has occurred\".format(number))\n",
    "        except:\n",
    "            continue"
   ]
  },
  {
   "cell_type": "markdown",
   "metadata": {},
   "source": [
    "#### Total number of buys occured in given time period"
   ]
  },
  {
   "cell_type": "code",
   "execution_count": 24,
   "metadata": {},
   "outputs": [
    {
     "name": "stdout",
     "output_type": "stream",
     "text": [
      "In the course of the given time period, Buy has occurred 14020 times\n"
     ]
    }
   ],
   "source": [
    "print(\"In the course of the given time period, Buy has occurred \" + str(len(data[data['buy']=='buy'])) + \" times\")"
   ]
  },
  {
   "cell_type": "markdown",
   "metadata": {},
   "source": [
    "#### Total Profit and Remaining Investment"
   ]
  },
  {
   "cell_type": "code",
   "execution_count": 25,
   "metadata": {},
   "outputs": [],
   "source": [
    "data['profit/loss']=\" \"\n",
    "for i in data.index:\n",
    "    if data['trade'][i]!=\" \":\n",
    "        ind=int(data['trade'][i].split()[-1])\n",
    "        data['profit/loss'][i]=int(data['high'][i])-int(data['high'][ind])\n",
    "    else:\n",
    "        data['profit/loss'][i]=0\n"
   ]
  },
  {
   "cell_type": "code",
   "execution_count": 26,
   "metadata": {},
   "outputs": [
    {
     "data": {
      "text/html": [
       "<div>\n",
       "<style scoped>\n",
       "    .dataframe tbody tr th:only-of-type {\n",
       "        vertical-align: middle;\n",
       "    }\n",
       "\n",
       "    .dataframe tbody tr th {\n",
       "        vertical-align: top;\n",
       "    }\n",
       "\n",
       "    .dataframe thead th {\n",
       "        text-align: right;\n",
       "    }\n",
       "</style>\n",
       "<table border=\"1\" class=\"dataframe\">\n",
       "  <thead>\n",
       "    <tr style=\"text-align: right;\">\n",
       "      <th></th>\n",
       "      <th>open</th>\n",
       "      <th>high</th>\n",
       "      <th>low</th>\n",
       "      <th>close</th>\n",
       "      <th>day</th>\n",
       "      <th>month</th>\n",
       "      <th>year</th>\n",
       "      <th>high_value</th>\n",
       "      <th>low_value</th>\n",
       "      <th>buy</th>\n",
       "      <th>status</th>\n",
       "      <th>target</th>\n",
       "      <th>stop loss</th>\n",
       "      <th>trade</th>\n",
       "      <th>profit/loss</th>\n",
       "    </tr>\n",
       "  </thead>\n",
       "  <tbody>\n",
       "    <tr>\n",
       "      <th>16267</th>\n",
       "      <td>14241.65</td>\n",
       "      <td>14244.30</td>\n",
       "      <td>14237.50</td>\n",
       "      <td>14239.95</td>\n",
       "      <td>18</td>\n",
       "      <td>1</td>\n",
       "      <td>2021</td>\n",
       "      <td></td>\n",
       "      <td></td>\n",
       "      <td></td>\n",
       "      <td>Inactive</td>\n",
       "      <td></td>\n",
       "      <td></td>\n",
       "      <td>Trade 4139</td>\n",
       "      <td>1397</td>\n",
       "    </tr>\n",
       "    <tr>\n",
       "      <th>16268</th>\n",
       "      <td>14239.30</td>\n",
       "      <td>14239.30</td>\n",
       "      <td>14233.80</td>\n",
       "      <td>14236.50</td>\n",
       "      <td>18</td>\n",
       "      <td>1</td>\n",
       "      <td>2021</td>\n",
       "      <td></td>\n",
       "      <td></td>\n",
       "      <td></td>\n",
       "      <td>Inactive</td>\n",
       "      <td></td>\n",
       "      <td></td>\n",
       "      <td>Trade 4140</td>\n",
       "      <td>1393</td>\n",
       "    </tr>\n",
       "    <tr>\n",
       "      <th>16269</th>\n",
       "      <td>14237.20</td>\n",
       "      <td>14239.20</td>\n",
       "      <td>14233.30</td>\n",
       "      <td>14237.05</td>\n",
       "      <td>18</td>\n",
       "      <td>1</td>\n",
       "      <td>2021</td>\n",
       "      <td></td>\n",
       "      <td></td>\n",
       "      <td></td>\n",
       "      <td>Inactive</td>\n",
       "      <td></td>\n",
       "      <td></td>\n",
       "      <td>Trade 4141</td>\n",
       "      <td>1393</td>\n",
       "    </tr>\n",
       "    <tr>\n",
       "      <th>16270</th>\n",
       "      <td>14236.35</td>\n",
       "      <td>14237.10</td>\n",
       "      <td>14224.95</td>\n",
       "      <td>14230.85</td>\n",
       "      <td>18</td>\n",
       "      <td>1</td>\n",
       "      <td>2021</td>\n",
       "      <td></td>\n",
       "      <td></td>\n",
       "      <td></td>\n",
       "      <td>Inactive</td>\n",
       "      <td></td>\n",
       "      <td></td>\n",
       "      <td>Trade 4142</td>\n",
       "      <td>1389</td>\n",
       "    </tr>\n",
       "    <tr>\n",
       "      <th>16271</th>\n",
       "      <td>14229.35</td>\n",
       "      <td>14232.95</td>\n",
       "      <td>14222.80</td>\n",
       "      <td>14230.20</td>\n",
       "      <td>18</td>\n",
       "      <td>1</td>\n",
       "      <td>2021</td>\n",
       "      <td></td>\n",
       "      <td></td>\n",
       "      <td></td>\n",
       "      <td>Inactive</td>\n",
       "      <td></td>\n",
       "      <td></td>\n",
       "      <td>Trade 4143</td>\n",
       "      <td>1385</td>\n",
       "    </tr>\n",
       "  </tbody>\n",
       "</table>\n",
       "</div>"
      ],
      "text/plain": [
       "           open      high       low     close  day  month  year high_value  \\\n",
       "16267  14241.65  14244.30  14237.50  14239.95   18      1  2021              \n",
       "16268  14239.30  14239.30  14233.80  14236.50   18      1  2021              \n",
       "16269  14237.20  14239.20  14233.30  14237.05   18      1  2021              \n",
       "16270  14236.35  14237.10  14224.95  14230.85   18      1  2021              \n",
       "16271  14229.35  14232.95  14222.80  14230.20   18      1  2021              \n",
       "\n",
       "      low_value buy    status target stop loss       trade profit/loss  \n",
       "16267                Inactive                   Trade 4139        1397  \n",
       "16268                Inactive                   Trade 4140        1393  \n",
       "16269                Inactive                   Trade 4141        1393  \n",
       "16270                Inactive                   Trade 4142        1389  \n",
       "16271                Inactive                   Trade 4143        1385  "
      ]
     },
     "execution_count": 26,
     "metadata": {},
     "output_type": "execute_result"
    }
   ],
   "source": [
    "data.tail()"
   ]
  },
  {
   "cell_type": "code",
   "execution_count": 27,
   "metadata": {},
   "outputs": [
    {
     "name": "stdout",
     "output_type": "stream",
     "text": [
      "The profit gained by them is  64380020.0\n"
     ]
    }
   ],
   "source": [
    "print(\"The profit gained by them is \", float(sum(data['profit/loss']))*10)"
   ]
  },
  {
   "cell_type": "code",
   "execution_count": 28,
   "metadata": {},
   "outputs": [
    {
     "name": "stdout",
     "output_type": "stream",
     "text": [
      "Remaining money in investment is  9113532.25\n"
     ]
    }
   ],
   "source": [
    "print(\"Remaining money in investment is \", data[data['trade']==\" \"].high.sum())"
   ]
  },
  {
   "cell_type": "code",
   "execution_count": null,
   "metadata": {},
   "outputs": [],
   "source": []
  }
 ],
 "metadata": {
  "kernelspec": {
   "display_name": "Python 3",
   "language": "python",
   "name": "python3"
  },
  "language_info": {
   "codemirror_mode": {
    "name": "ipython",
    "version": 3
   },
   "file_extension": ".py",
   "mimetype": "text/x-python",
   "name": "python",
   "nbconvert_exporter": "python",
   "pygments_lexer": "ipython3",
   "version": "3.8.5"
  }
 },
 "nbformat": 4,
 "nbformat_minor": 4
}
